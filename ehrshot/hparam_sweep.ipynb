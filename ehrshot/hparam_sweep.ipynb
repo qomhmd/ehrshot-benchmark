{
 "cells": [
  {
   "cell_type": "code",
   "execution_count": null,
   "metadata": {},
   "outputs": [],
   "source": [
    "%load_ext autoreload\n",
    "%autoreload 2\n",
    "\n",
    "import pandas as pd\n",
    "import matplotlib.pyplot as plt\n",
    "import os\n",
    "import json\n",
    "from typing import List, Dict, Tuple, Optional\n",
    "from tqdm import tqdm\n",
    "import seaborn as sns\n",
    "tqdm.pandas()\n",
    "sns.set_context(\"paper\")"
   ]
  },
  {
   "cell_type": "code",
   "execution_count": null,
   "metadata": {},
   "outputs": [],
   "source": [
    "path_to_results_dir: str = '../EHRSHOT_ASSETS/results_ehrshot/'\n",
    "tasks = os.listdir(path_to_results_dir)\n",
    "print(\"Tasks: \", tasks)"
   ]
  },
  {
   "cell_type": "code",
   "execution_count": null,
   "metadata": {},
   "outputs": [],
   "source": [
    "model: str = 'count'\n",
    "\n",
    "path_to_model_dir: str = os.path.join(path_to_results_dir, task, \"models\", model, head, f\"subtask={task}\", f\"k={k}\")\n",
    "path_to_hparams_json: str = os.path.join(path_to_model_dir, 'model_hparams.json')\n",
    "\n",
    "hparams: dict = json.load(open(path_to_hparams_json, 'r')).get(\"model_hparams\", {})\n",
    "auroc: float = json.load(open(path_to_hparams_json, 'r')).get(\"scores\", {}).get(\"auroc\", {}).get(\"score\")"
   ]
  },
  {
   "cell_type": "code",
   "execution_count": null,
   "metadata": {},
   "outputs": [],
   "source": []
  }
 ],
 "metadata": {
  "language_info": {
   "name": "python"
  }
 },
 "nbformat": 4,
 "nbformat_minor": 2
}
